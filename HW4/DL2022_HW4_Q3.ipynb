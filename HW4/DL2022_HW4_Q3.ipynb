{
  "nbformat": 4,
  "nbformat_minor": 0,
  "metadata": {
    "colab": {
      "provenance": []
    },
    "kernelspec": {
      "name": "python3",
      "display_name": "Python 3"
    },
    "language_info": {
      "name": "python"
    },
    "accelerator": "GPU",
    "gpuClass": "standard"
  },
  "cells": [
    {
      "cell_type": "code",
      "source": [
        "!pip install transformers"
      ],
      "metadata": {
        "colab": {
          "base_uri": "https://localhost:8080/"
        },
        "id": "mfyrqk8uS06o",
        "outputId": "dfbecfd4-5d81-4fb0-d9ed-37fc9d2c8cf0"
      },
      "execution_count": 1,
      "outputs": [
        {
          "output_type": "stream",
          "name": "stdout",
          "text": [
            "Looking in indexes: https://pypi.org/simple, https://us-python.pkg.dev/colab-wheels/public/simple/\n",
            "Requirement already satisfied: transformers in /usr/local/lib/python3.8/dist-packages (4.26.0)\n",
            "Requirement already satisfied: filelock in /usr/local/lib/python3.8/dist-packages (from transformers) (3.9.0)\n",
            "Requirement already satisfied: tokenizers!=0.11.3,<0.14,>=0.11.1 in /usr/local/lib/python3.8/dist-packages (from transformers) (0.13.2)\n",
            "Requirement already satisfied: numpy>=1.17 in /usr/local/lib/python3.8/dist-packages (from transformers) (1.21.6)\n",
            "Requirement already satisfied: tqdm>=4.27 in /usr/local/lib/python3.8/dist-packages (from transformers) (4.64.1)\n",
            "Requirement already satisfied: regex!=2019.12.17 in /usr/local/lib/python3.8/dist-packages (from transformers) (2022.6.2)\n",
            "Requirement already satisfied: pyyaml>=5.1 in /usr/local/lib/python3.8/dist-packages (from transformers) (6.0)\n",
            "Requirement already satisfied: packaging>=20.0 in /usr/local/lib/python3.8/dist-packages (from transformers) (23.0)\n",
            "Requirement already satisfied: requests in /usr/local/lib/python3.8/dist-packages (from transformers) (2.25.1)\n",
            "Requirement already satisfied: huggingface-hub<1.0,>=0.11.0 in /usr/local/lib/python3.8/dist-packages (from transformers) (0.12.0)\n",
            "Requirement already satisfied: typing-extensions>=3.7.4.3 in /usr/local/lib/python3.8/dist-packages (from huggingface-hub<1.0,>=0.11.0->transformers) (4.4.0)\n",
            "Requirement already satisfied: certifi>=2017.4.17 in /usr/local/lib/python3.8/dist-packages (from requests->transformers) (2022.12.7)\n",
            "Requirement already satisfied: idna<3,>=2.5 in /usr/local/lib/python3.8/dist-packages (from requests->transformers) (2.10)\n",
            "Requirement already satisfied: urllib3<1.27,>=1.21.1 in /usr/local/lib/python3.8/dist-packages (from requests->transformers) (1.24.3)\n",
            "Requirement already satisfied: chardet<5,>=3.0.2 in /usr/local/lib/python3.8/dist-packages (from requests->transformers) (4.0.0)\n"
          ]
        }
      ]
    },
    {
      "cell_type": "code",
      "source": [
        "import torch.nn as nn\n",
        "import torchvision.transforms as transforms\n",
        "import torchvision\n",
        "import torch\n",
        "from tqdm import tqdm "
      ],
      "metadata": {
        "id": "Iqeqn5AHFvNA"
      },
      "execution_count": 2,
      "outputs": []
    },
    {
      "cell_type": "code",
      "execution_count": 3,
      "metadata": {
        "colab": {
          "base_uri": "https://localhost:8080/"
        },
        "id": "Qd7qxFzKEV7W",
        "outputId": "040e98f0-d694-4dd1-9d89-d2b34be536dd"
      },
      "outputs": [
        {
          "output_type": "stream",
          "name": "stdout",
          "text": [
            "Drive already mounted at /content/drive; to attempt to forcibly remount, call drive.mount(\"/content/drive\", force_remount=True).\n"
          ]
        }
      ],
      "source": [
        "from google.colab import drive\n",
        "drive.mount('/content/drive')"
      ]
    },
    {
      "cell_type": "code",
      "source": [
        "%cd MyDrive/DL/HW4"
      ],
      "metadata": {
        "colab": {
          "base_uri": "https://localhost:8080/"
        },
        "id": "m0pWiln0NBrF",
        "outputId": "267f3769-8748-4643-ce5c-315758c6396f"
      },
      "execution_count": 4,
      "outputs": [
        {
          "output_type": "stream",
          "name": "stdout",
          "text": [
            "[Errno 2] No such file or directory: 'MyDrive/DL/HW4'\n",
            "/content\n"
          ]
        }
      ]
    },
    {
      "cell_type": "code",
      "source": [
        "!ls"
      ],
      "metadata": {
        "colab": {
          "base_uri": "https://localhost:8080/"
        },
        "id": "tXUtxh76NBX9",
        "outputId": "3a67a597-d3af-4102-d8c2-8ed3daf73d8d"
      },
      "execution_count": 5,
      "outputs": [
        {
          "output_type": "stream",
          "name": "stdout",
          "text": [
            "drive  sample_data\n"
          ]
        }
      ]
    },
    {
      "cell_type": "code",
      "source": [
        "DEVICE = torch.device('cpu')\n",
        "if torch.cuda.is_available():\n",
        "    DEVICE = torch.device('cuda')"
      ],
      "metadata": {
        "id": "Otb2F2b-HOuR"
      },
      "execution_count": 6,
      "outputs": []
    },
    {
      "cell_type": "code",
      "source": [
        "DATA_PATH = '/content/drive/MyDrive/DL/HW4/data/'\n",
        "BATCH_SIZE = 64\n",
        "POETS_LIST = ['khayyam_norm.txt','naserkhosro_norm.txt',\n",
        "              'hafez_norm.txt','obeyd_norm.txt',\n",
        "              'parvin_norm.txt', 'moulavi_norm.txt', \n",
        "              'roodaki_norm.txt', 'saadi_norm.txt', \n",
        "              'sanaee_norm.txt','shahriar_norm.txt']\n",
        "EPOCHS = 1\n",
        "LEARNING_RATE = 0.01"
      ],
      "metadata": {
        "id": "bG3eGX_EGjh2"
      },
      "execution_count": 7,
      "outputs": []
    },
    {
      "cell_type": "code",
      "source": [
        "import random\n",
        "\n",
        "random.seed(10)"
      ],
      "metadata": {
        "id": "uX3-toMlYHe_"
      },
      "execution_count": 8,
      "outputs": []
    },
    {
      "cell_type": "markdown",
      "source": [
        "##Data"
      ],
      "metadata": {
        "id": "xyNpa5NgLLKq"
      }
    },
    {
      "cell_type": "code",
      "source": [
        "import os\n",
        "if not os.path.exists(DATA_PATH):\n",
        "   os.makedirs(DATA_PATH)"
      ],
      "metadata": {
        "id": "46ctltG8GgDU"
      },
      "execution_count": 9,
      "outputs": []
    },
    {
      "cell_type": "code",
      "source": [
        "%cd /content/drive/MyDrive/DL/HW4/data/"
      ],
      "metadata": {
        "colab": {
          "base_uri": "https://localhost:8080/"
        },
        "id": "qui3bobUF8L4",
        "outputId": "af79107c-9f88-46c1-8104-cb4417fa44d3"
      },
      "execution_count": 10,
      "outputs": [
        {
          "output_type": "stream",
          "name": "stdout",
          "text": [
            "/content/drive/.shortcut-targets-by-id/1Fbn6Jg0Awtfoo0LH2k0RSeOQqVNpjrYl/HW4/data\n"
          ]
        }
      ]
    },
    {
      "cell_type": "code",
      "source": [
        "# !git clone https://github.com/amnghd/Persian_poems_corpus.git"
      ],
      "metadata": {
        "id": "bJSaYvClEygT"
      },
      "execution_count": null,
      "outputs": []
    },
    {
      "cell_type": "code",
      "source": [
        "!ls /content/drive/MyDrive/DL/HW4/data/Persian_poems_corpus/normalized"
      ],
      "metadata": {
        "colab": {
          "base_uri": "https://localhost:8080/"
        },
        "id": "hTjlh2sOM8aD",
        "outputId": "3d4ecd12-27b7-4067-be7c-571aab3a639c"
      },
      "execution_count": 11,
      "outputs": [
        {
          "output_type": "stream",
          "name": "stdout",
          "text": [
            "abusaeed_norm.txt   hafez_norm.txt\t  orfi_norm.txt\n",
            "amir_norm.txt\t    hatef_norm.txt\t  ouhadi_norm.txt\n",
            "anvari_norm.txt     helali_norm.txt\t  parvin_norm.txt\n",
            "asadi_norm.txt\t    iqbal_norm.txt\t  rahi_norm.txt\n",
            "asad_norm.txt\t    jami_norm.txt\t  razi_norm.txt\n",
            "attar_norm.txt\t    kamal_norm.txt\t  roodaki_norm.txt\n",
            "babaafzal_norm.txt  khaghani_norm.txt\t  saadi_norm.txt\n",
            "bahaee_norm.txt     khajoo_norm.txt\t  saeb_norm.txt\n",
            "bahar_norm.txt\t    khayyam_norm.txt\t  salman_norm.txt\n",
            "bidel_norm.txt\t    khosro_norm.txt\t  sanaee_norm.txt\n",
            "eraghi_norm.txt     manoochehri_norm.txt  seyf_norm.txt\n",
            "farrokhi_norm.txt   moulavi_norm.txt\t  shabestari_norm.txt\n",
            "ferdousi_norm.txt   naserkhosro_norm.txt  shahnematollah_norm.txt\n",
            "feyz_norm.txt\t    nezari_norm.txt\t  shahriar_norm.txt\n",
            "ghaani_norm.txt     obeyd_norm.txt\t  vahshi_norm.txt\n",
            "gilani_norm.txt     onsori_norm.txt\t  zahir_norm.txt\n"
          ]
        }
      ]
    },
    {
      "cell_type": "code",
      "source": [
        "poems_list = []\n",
        "for i,poet in enumerate(POETS_LIST):\n",
        "  poet_file = DATA_PATH+'Persian_poems_corpus/normalized/'+poet\n",
        "  with open(poet_file) as file:\n",
        "    for line in file:\n",
        "      if line.rstrip() != '':\n",
        "        poems_list.append((line.rstrip(),i))\n",
        "random.shuffle(poems_list)      "
      ],
      "metadata": {
        "id": "89RsMHsKL3sU"
      },
      "execution_count": 12,
      "outputs": []
    },
    {
      "cell_type": "code",
      "source": [
        "from torch.utils.data import Dataset\n",
        "from transformers import AutoTokenizer\n",
        "\n",
        "class PoetDataset(Dataset):\n",
        "    def __init__(self, data):\n",
        "        self.data = data\n",
        "        self.tokenizer = AutoTokenizer.from_pretrained(\n",
        "        \"HooshvareLab/bert-fa-base-uncased-clf-digimag\"\n",
        "    )\n",
        "        \n",
        "    def tokenize(self, text):\n",
        "      tokenized_text =  self.tokenizer(text, truncation=True, max_length=32, padding = 'max_length', return_tensors = 'pt')\n",
        "      for key in ['input_ids', 'attention_mask']:\n",
        "            tokenized_text[key] = tokenized_text[key][0]\n",
        "      return tokenized_text\n",
        "\n",
        "    def __getitem__(self, index):\n",
        "        raw_text = self.data[index][0]\n",
        "        x = self.tokenize(raw_text)\n",
        "        \n",
        "        y = self.data[index][1]\n",
        "        return x, y\n",
        "    \n",
        "    def __len__(self):\n",
        "        return len(self.data)"
      ],
      "metadata": {
        "id": "i9-mYLeQNJkw"
      },
      "execution_count": 13,
      "outputs": []
    },
    {
      "cell_type": "code",
      "source": [
        "total_data_size = len(poems_list)\n",
        "train_size = int(0.8 * total_data_size)\n",
        "eval_size = int(0.1 * total_data_size)\n",
        "test_size = total_data_size-(train_size+eval_size)\n",
        "\n",
        "poet_dataset = PoetDataset(poems_list)\n",
        "\n",
        "train_dataset, eval_dataset, test_dataset = torch.utils.data.random_split(poet_dataset, [train_size, eval_size, test_size])\n",
        "\n",
        "train_dataloader = torch.utils.data.DataLoader(train_dataset, batch_size=BATCH_SIZE, shuffle=True)\n",
        "eval_dataloader = torch.utils.data.DataLoader(eval_dataset, batch_size=BATCH_SIZE, shuffle=True)\n",
        "test_dataloader = torch.utils.data.DataLoader(test_dataset, batch_size=BATCH_SIZE, shuffle=True)"
      ],
      "metadata": {
        "id": "8Vw1RHbWKtZp"
      },
      "execution_count": 14,
      "outputs": []
    },
    {
      "cell_type": "code",
      "source": [
        "print(train_dataset[0])"
      ],
      "metadata": {
        "colab": {
          "base_uri": "https://localhost:8080/"
        },
        "id": "4zgqb8TEz3Rb",
        "outputId": "73f316ac-aa93-4f84-8b29-6dc79f491c82"
      },
      "execution_count": 17,
      "outputs": [
        {
          "output_type": "stream",
          "name": "stdout",
          "text": [
            "({'input_ids': tensor([   2, 6094, 5355, 4643, 2861, 9002, 2885,    4,    0,    0,    0,    0,\n",
            "           0,    0,    0,    0,    0,    0,    0,    0,    0,    0,    0,    0,\n",
            "           0,    0,    0,    0,    0,    0,    0,    0]), 'token_type_ids': tensor([[0, 0, 0, 0, 0, 0, 0, 0, 0, 0, 0, 0, 0, 0, 0, 0, 0, 0, 0, 0, 0, 0, 0, 0,\n",
            "         0, 0, 0, 0, 0, 0, 0, 0]]), 'attention_mask': tensor([1, 1, 1, 1, 1, 1, 1, 1, 0, 0, 0, 0, 0, 0, 0, 0, 0, 0, 0, 0, 0, 0, 0, 0,\n",
            "        0, 0, 0, 0, 0, 0, 0, 0])}, 5)\n"
          ]
        }
      ]
    },
    {
      "cell_type": "code",
      "source": [
        "from transformers import BertModel\n",
        "\n",
        "class BertPoet(torch.nn.Module):\n",
        "    def __init__(self,train_bert = False):\n",
        "        super(BertPoet, self).__init__()\n",
        "        self.bert = BertModel.from_pretrained(\n",
        "            \"HooshvareLab/bert-fa-base-uncased-clf-digimag\")\n",
        "        self.dropout = nn.Dropout(0.5)\n",
        "        self.linear = nn.Linear(768, 10)\n",
        "        self.relu = nn.ReLU()\n",
        "        if not train_bert:\n",
        "          for name, param in self.bert.named_parameters():\n",
        "           if 'classifier' not in name:\n",
        "             param.requires_grad = False\n",
        "\n",
        "\n",
        "    def forward(self, input_batch):\n",
        "        input_ids = input_batch[\"input_ids\"]\n",
        "        mask = input_batch[\"attention_mask\"]\n",
        "        _, pooled_output = self.bert(input_ids= input_ids, attention_mask=mask,return_dict=False)\n",
        "        dropout_output = self.dropout(pooled_output)\n",
        "        linear_output = self.linear(dropout_output)\n",
        "        output = self.relu(linear_output)\n",
        "        return output"
      ],
      "metadata": {
        "id": "cyNnZIfeaRLr"
      },
      "execution_count": 15,
      "outputs": []
    },
    {
      "cell_type": "code",
      "source": [
        "def calculate_accuracy(logits, labels):\n",
        "  predictions = torch.argmax(logits, dim=1)\n",
        "  true = torch.sum(predictions==labels)\n",
        "  return true\n",
        "\n",
        "def evaluate(dataloader, model):\n",
        "  loss_function = nn.CrossEntropyLoss()\n",
        "  eval_loss = 0\n",
        "  total_true = 0\n",
        "  for x,y in tqdm(dataloader):\n",
        "    with torch.no_grad():\n",
        "      x = x.to(DEVICE)\n",
        "      y = y.to(DEVICE)\n",
        "      logits = model(x)\n",
        "      loss = loss_function(logits, y)\n",
        "      eval_loss+= loss.item()\n",
        "      total_true+= calculate_accuracy(logits, y)\n",
        "  eval_acuuracy = total_true/len(dataloader.dataset)\n",
        "  return eval_loss, eval_acuuracy"
      ],
      "metadata": {
        "id": "KVYhYA6AptMv"
      },
      "execution_count": 17,
      "outputs": []
    },
    {
      "cell_type": "code",
      "source": [
        "from sklearn.metrics import confusion_matrix\n",
        "from sklearn.metrics import precision_recall_fscore_support\n",
        "def test_model(model, test_dataloader):\n",
        "  y_true = torch.tensor([])\n",
        "  y_pred = torch.tensor([])\n",
        "  total_true = 0\n",
        "  for x,y in tqdm(test_dataloader):\n",
        "    x = x.to(DEVICE)\n",
        "    y = y.to(DEVICE)\n",
        "    logits = model(x)\n",
        "    total_true+= calculate_accuracy(logits, y)\n",
        "    predictions = torch.argmax(logits, dim=1)\n",
        "    y_pred = torch.cat((y_pred, torch.ravel(predictions).cpu()))\n",
        "    y_true = torch.cat((y_true, torch.ravel(y).cpu()))\n",
        "  test_acuuracy = total_true/len(test_dataloader.dataset)\n",
        "  metrics = precision_recall_fscore_support(y_true, y_pred, average='micro')\n",
        "  print()\n",
        "  print('Accuracy/test', test_acuuracy)\n",
        "  print('F1Score/test', metrics[2])\n",
        "  print(confusion_matrix(y_true, y_pred))"
      ],
      "metadata": {
        "id": "_bkLs2hOpcAp"
      },
      "execution_count": 18,
      "outputs": []
    },
    {
      "cell_type": "code",
      "source": [
        "from torch.optim import SGD\n",
        "\n",
        "def train_loop(model, train_dataloader, val_dataloader, epochs, optimizer):\n",
        "    # optimizer = SGD(model.parameters(), lr=LEARNING_RATE)\n",
        "    loss_function = nn.CrossEntropyLoss(reduction='mean')\n",
        "    for epoch_num in range(epochs):\n",
        "        print(\"-\"*10,epoch_num,\"-\"*10)\n",
        "        total_loss_train = 0\n",
        "        for input_batch, batch_labels in tqdm(train_dataloader):\n",
        "            logits = model(input_batch.to(DEVICE))\n",
        "            loss = loss_function(logits, batch_labels.to(DEVICE))\n",
        "            total_loss_train += loss.item()\n",
        "            optimizer.zero_grad()\n",
        "            loss.backward()\n",
        "            torch.nn.utils.clip_grad_value_(model.parameters(), 6)\n",
        "            optimizer.step()\n",
        "        eval_loss, eval_acuuracy = evaluate(val_dataloader, model)\n",
        "        print('train loss ', total_loss_train)\n",
        "        print('eval loss ', eval_loss)\n",
        "        print('accuracy ', eval_acuuracy)\n",
        "    return model"
      ],
      "metadata": {
        "id": "MwZuOsLIctCT"
      },
      "execution_count": 19,
      "outputs": []
    },
    {
      "cell_type": "code",
      "source": [
        "%cd .."
      ],
      "metadata": {
        "colab": {
          "base_uri": "https://localhost:8080/"
        },
        "id": "_rmW2KTr5w0Z",
        "outputId": "566efd6d-1237-4d7b-ee76-1b43841d0b27"
      },
      "execution_count": 20,
      "outputs": [
        {
          "output_type": "stream",
          "name": "stdout",
          "text": [
            "/content/drive/.shortcut-targets-by-id/1Fbn6Jg0Awtfoo0LH2k0RSeOQqVNpjrYl/HW4\n"
          ]
        }
      ]
    },
    {
      "cell_type": "code",
      "source": [
        "partial_model = BertPoet().to(DEVICE)\n",
        "optimizer = SGD(partial_model.parameters(), lr=LEARNING_RATE)\n",
        "model_partial_train = train_loop(partial_model, train_dataloader, eval_dataloader, 1, optimizer)\n",
        "torch.save(model_partial_train, 'partial_train_model.pt')\n",
        "test_model(model_partial_train, test_dataloader)"
      ],
      "metadata": {
        "colab": {
          "base_uri": "https://localhost:8080/"
        },
        "id": "ZuP4N4oltRAh",
        "outputId": "c9538d95-20c0-4b77-8ef8-7331517fdc85"
      },
      "execution_count": null,
      "outputs": [
        {
          "output_type": "stream",
          "name": "stderr",
          "text": [
            "Some weights of the model checkpoint at HooshvareLab/bert-fa-base-uncased-clf-digimag were not used when initializing BertModel: ['classifier.bias', 'classifier.weight']\n",
            "- This IS expected if you are initializing BertModel from the checkpoint of a model trained on another task or with another architecture (e.g. initializing a BertForSequenceClassification model from a BertForPreTraining model).\n",
            "- This IS NOT expected if you are initializing BertModel from the checkpoint of a model that you expect to be exactly identical (initializing a BertForSequenceClassification model from a BertForSequenceClassification model).\n"
          ]
        },
        {
          "output_type": "stream",
          "name": "stdout",
          "text": [
            "---------- 0 ----------\n"
          ]
        },
        {
          "output_type": "stream",
          "name": "stderr",
          "text": [
            "100%|██████████| 2390/2390 [04:51<00:00,  8.19it/s]\n",
            "100%|██████████| 299/299 [00:35<00:00,  8.42it/s]\n"
          ]
        },
        {
          "output_type": "stream",
          "name": "stdout",
          "text": [
            "train loss  4367.026273488998\n",
            "eval loss  537.5387711524963\n",
            "accuracy  tensor(0.3134, device='cuda:0')\n"
          ]
        },
        {
          "output_type": "stream",
          "name": "stderr",
          "text": [
            "100%|██████████| 299/299 [00:35<00:00,  8.37it/s]"
          ]
        },
        {
          "output_type": "stream",
          "name": "stdout",
          "text": [
            "\n",
            "Accuracy/test tensor(0.3155, device='cuda:0')\n",
            "F1Score/test 0.31548117154811717\n",
            "[[   0    0    0    0    0   83    0    2   43    0]\n",
            " [   0    7    0    0    1 1281    0   61  813    2]\n",
            " [   0    0    0    0    1  520    0   58  351    2]\n",
            " [   0    0    0    0    0  314    0   15  186    1]\n",
            " [   0    3    0    0    2  728    0   29  368    1]\n",
            " [   0    8    0    0    1 3801    0  120 1338    6]\n",
            " [   0    0    0    0    0  129    0    5   70    0]\n",
            " [   0    4    2    1    2 1888    0  151  973    2]\n",
            " [   0   12    3    1    1 3171    0  113 2069    0]\n",
            " [   0    0    2    0    0  212    0   25  136    2]]\n"
          ]
        },
        {
          "output_type": "stream",
          "name": "stderr",
          "text": [
            "\n"
          ]
        }
      ]
    },
    {
      "cell_type": "code",
      "source": [
        "complete_model = BertPoet(train_bert = True).to(DEVICE)\n",
        "optimizer = SGD(complete_model.parameters(), lr=LEARNING_RATE)\n",
        "complete_model_train_SGD = train_loop(complete_model, train_dataloader, eval_dataloader,1,optimizer)\n",
        "torch.save(complete_model_train_SGD, 'complete_model_train_SGD.pt')\n",
        "test_model(complete_model_train_SGD, test_dataloader)"
      ],
      "metadata": {
        "colab": {
          "base_uri": "https://localhost:8080/"
        },
        "id": "sf1hwJWX_AEQ",
        "outputId": "436a02dc-a36c-4b4e-bd01-912622162f1b"
      },
      "execution_count": null,
      "outputs": [
        {
          "output_type": "stream",
          "name": "stderr",
          "text": [
            "Some weights of the model checkpoint at HooshvareLab/bert-fa-base-uncased-clf-digimag were not used when initializing BertModel: ['classifier.bias', 'classifier.weight']\n",
            "- This IS expected if you are initializing BertModel from the checkpoint of a model trained on another task or with another architecture (e.g. initializing a BertForSequenceClassification model from a BertForPreTraining model).\n",
            "- This IS NOT expected if you are initializing BertModel from the checkpoint of a model that you expect to be exactly identical (initializing a BertForSequenceClassification model from a BertForSequenceClassification model).\n"
          ]
        },
        {
          "output_type": "stream",
          "name": "stdout",
          "text": [
            "---------- 0 ----------\n"
          ]
        },
        {
          "output_type": "stream",
          "name": "stderr",
          "text": [
            "100%|██████████| 2390/2390 [12:35<00:00,  3.16it/s]\n",
            "100%|██████████| 299/299 [00:35<00:00,  8.42it/s]\n"
          ]
        },
        {
          "output_type": "stream",
          "name": "stdout",
          "text": [
            "train loss  3769.652772605419\n",
            "eval loss  445.78026354312897\n",
            "accuracy  tensor(0.4382, device='cuda:0')\n"
          ]
        },
        {
          "output_type": "stream",
          "name": "stderr",
          "text": [
            "100%|██████████| 299/299 [00:35<00:00,  8.39it/s]"
          ]
        },
        {
          "output_type": "stream",
          "name": "stdout",
          "text": [
            "\n",
            "Accuracy/test tensor(0.4416, device='cuda:0')\n",
            "F1Score/test 0.4415794979079498\n",
            "[[   0   22    3    0    5    7    0   10   80    1]\n",
            " [   0  975    7    0   36   31    0   61 1055    0]\n",
            " [   0   53  229    4   21   25    0  145  440   15]\n",
            " [   0   29   25   10   32   12    0   71  328    9]\n",
            " [   0  155   10    4  199   73    0   89  600    1]\n",
            " [   0  201   28    0  102 1265    0  123 3546    9]\n",
            " [   0   32    1    0    4   11    0    7  148    1]\n",
            " [   0  307   98    2   95  128    0  988 1384   21]\n",
            " [   0  321   33    5   48  145    0  117 4694    7]\n",
            " [   0   14   43    1   14    4    0   50  168   83]]\n"
          ]
        },
        {
          "output_type": "stream",
          "name": "stderr",
          "text": [
            "\n"
          ]
        }
      ]
    },
    {
      "cell_type": "code",
      "source": [
        "complete_model = BertPoet(train_bert = True).to(DEVICE)\n",
        "optimizer = torch.optim.Adam(complete_model.parameters(),lr=LEARNING_RATE,amsgrad=False)\n",
        "complete_model_train_ADAM = train_loop(complete_model, train_dataloader, eval_dataloader,1,optimizer)\n",
        "torch.save(complete_model_train_ADAM, 'complete_model_train_ADAM.pt')\n",
        "test_model(complete_model_train_ADAM, test_dataloader)"
      ],
      "metadata": {
        "colab": {
          "base_uri": "https://localhost:8080/"
        },
        "id": "BeMVGZar_FQu",
        "outputId": "a5c91dbd-ebbd-43e1-cfc0-4aa759a5df61"
      },
      "execution_count": null,
      "outputs": [
        {
          "output_type": "stream",
          "name": "stderr",
          "text": [
            "Some weights of the model checkpoint at HooshvareLab/bert-fa-base-uncased-clf-digimag were not used when initializing BertModel: ['classifier.bias', 'classifier.weight']\n",
            "- This IS expected if you are initializing BertModel from the checkpoint of a model trained on another task or with another architecture (e.g. initializing a BertForSequenceClassification model from a BertForPreTraining model).\n",
            "- This IS NOT expected if you are initializing BertModel from the checkpoint of a model that you expect to be exactly identical (initializing a BertForSequenceClassification model from a BertForSequenceClassification model).\n"
          ]
        },
        {
          "output_type": "stream",
          "name": "stdout",
          "text": [
            "---------- 0 ----------\n"
          ]
        },
        {
          "output_type": "stream",
          "name": "stderr",
          "text": [
            "100%|██████████| 2390/2390 [13:19<00:00,  2.99it/s]\n",
            "100%|██████████| 299/299 [00:32<00:00,  9.07it/s]\n"
          ]
        },
        {
          "output_type": "stream",
          "name": "stdout",
          "text": [
            "train loss  5508.063760995865\n",
            "eval loss  688.4728801250458\n",
            "accuracy  tensor(0.0062, device='cuda:0')\n"
          ]
        },
        {
          "output_type": "stream",
          "name": "stderr",
          "text": [
            "100%|██████████| 299/299 [00:33<00:00,  8.89it/s]\n"
          ]
        },
        {
          "output_type": "stream",
          "name": "stdout",
          "text": [
            "\n",
            "Accuracy/test tensor(0.0067, device='cuda:0')\n",
            "F1Score/test 0.0066945606694560665\n",
            "[[ 128    0    0    0    0    0    0    0    0    0]\n",
            " [2165    0    0    0    0    0    0    0    0    0]\n",
            " [ 932    0    0    0    0    0    0    0    0    0]\n",
            " [ 516    0    0    0    0    0    0    0    0    0]\n",
            " [1131    0    0    0    0    0    0    0    0    0]\n",
            " [5274    0    0    0    0    0    0    0    0    0]\n",
            " [ 204    0    0    0    0    0    0    0    0    0]\n",
            " [3023    0    0    0    0    0    0    0    0    0]\n",
            " [5370    0    0    0    0    0    0    0    0    0]\n",
            " [ 377    0    0    0    0    0    0    0    0    0]]\n"
          ]
        }
      ]
    },
    {
      "cell_type": "code",
      "source": [
        "complete_model_train_SGD=torch.load('complete_model_train_SGD.pt')\n",
        "# complete_model_train_SGD=torch.load('complete_model_train_SGD.pt', map_location=torch.device('cpu'))\n",
        "# complete_model_train_ADAM = torch.load('complete_model_train_ADAM.pt')\n",
        "model_partial_train = torch.load('partial_train_model.pt')\n",
        "# model_partial_train = torch.load('partial_train_model.pt', map_location=torch.device('cpu'))"
      ],
      "metadata": {
        "id": "rVI7DVljEhVF"
      },
      "execution_count": 26,
      "outputs": []
    },
    {
      "cell_type": "code",
      "source": [
        "def get_perplexity(model, unbiased_dataloader):\n",
        "    loss_function = nn.CrossEntropyLoss(reduction='mean')\n",
        "    total_loss = 0\n",
        "    for input, labels in unbiased_dataloader:\n",
        "        input = input.to(DEVICE)\n",
        "        labels = labels.to(DEVICE)\n",
        "        logits = model(input)\n",
        "        loss = loss_function(logits, labels)\n",
        "        total_loss += loss.item()\n",
        "    perplexity  = torch.exp(torch.tensor(total_loss)) \n",
        "    return perplexity\n",
        "def get_unbiased_poem():\n",
        "  poems_list = []\n",
        "  for i,poet in enumerate(POETS_LIST):\n",
        "    poet_file = DATA_PATH+'Persian_poems_corpus/normalized/'+poet\n",
        "    with open(poet_file) as file:\n",
        "      for j,line in enumerate(file):\n",
        "        if line.rstrip() != '' and j<100:\n",
        "          poems_list.append((line.rstrip(),i))\n",
        "  random.shuffle(poems_list)\n",
        "  return poems_list"
      ],
      "metadata": {
        "id": "Z0VuBcJ67pZg"
      },
      "execution_count": 31,
      "outputs": []
    },
    {
      "cell_type": "code",
      "source": [
        "import torch.nn.functional as F\n",
        "unbiased_list = get_unbiased_poem()\n",
        "unbiased_dataset = PoetDataset(unbiased_list)\n",
        "unbiased_dataloader = torch.utils.data.DataLoader(unbiased_dataset, batch_size=BATCH_SIZE, shuffle=True)\n",
        "\n",
        "with torch.no_grad():\n",
        "    partial_perplexity = get_perplexity(model_partial_train, unbiased_dataloader)\n",
        "    complate_perplexity = get_perplexity(complete_model_train_SGD, unbiased_dataloader)\n"
      ],
      "metadata": {
        "id": "FuXDTJxn7RAV"
      },
      "execution_count": 32,
      "outputs": []
    },
    {
      "cell_type": "code",
      "source": [
        "print(partial_perplexity)\n",
        "print(complate_perplexity)"
      ],
      "metadata": {
        "colab": {
          "base_uri": "https://localhost:8080/"
        },
        "id": "AU6i0aKoOl2y",
        "outputId": "e47be507-b061-46d8-ef84-6b6b76b9e068"
      },
      "execution_count": 33,
      "outputs": [
        {
          "output_type": "stream",
          "name": "stdout",
          "text": [
            "tensor(6.1594e+18)\n",
            "tensor(1.9575e+15)\n"
          ]
        }
      ]
    }
  ]
}